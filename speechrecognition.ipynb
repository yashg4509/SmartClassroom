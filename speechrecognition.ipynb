{
 "cells": [
  {
   "cell_type": "code",
   "execution_count": 4,
   "metadata": {
    "hideCode": true,
    "hidePrompt": false
   },
   "outputs": [
    {
     "name": "stdout",
     "output_type": "stream",
     "text": [
      "Speak Anything: \n",
      "You said: hey class how do you feel about quadratics\n",
      "How do you feel about about quadratics on a scale of 0-10, 0 being bad and 10 being good? 3\n",
      "That is alright. What questions would you like to anonymously ask the teacher? What is the quadratic formula?\n",
      "A student had this question: What is the quadratic formula?\n"
     ]
    }
   ],
   "source": [
    "import speech_recognition as sr\n",
    "\n",
    "r = sr.Recognizer()\n",
    "\n",
    "with sr.Microphone() as source:\n",
    "    print('Speak Anything: ')\n",
    "    audio = r.listen(source)\n",
    "    \n",
    "    try:\n",
    "        text = r.recognize_google(audio)\n",
    "        print('You said: {}'.format(text))\n",
    "    except:\n",
    "        print('Sorry, couldn\\'t recognize what you said.')\n",
    "        \n",
    "if('class how do you feel about' in text):\n",
    "    # collect the string after about\n",
    "    word = 'about'    \n",
    "    index = text.index(word)\n",
    "    conceptstr = text[index:]\n",
    "    \n",
    "    numstr = input(\"How do you feel about {} on a scale of 0-10, 0 being bad and 10 being good? \".format(conceptstr))\n",
    "    num = int(numstr)\n",
    "    if(num < 5):\n",
    "        question = input('That is alright. What questions would you like to anonymously ask the teacher? ')\n",
    "        print('A student had this question: ' + question)\n",
    "            \n",
    "    elif(num >= 5):\n",
    "        print('Good to hear, we can move on.')\n",
    "\n",
    "if('yes or no' in text):\n",
    "#     word = 'yes'\n",
    "#     index = text.index(word)\n",
    "#     conceptstr = text[index-2]\n",
    "    \n",
    "    clarification = input(\"Do you understand? If so, please type Y or N.\")\n",
    "    if(clarification == 'Y'):\n",
    "        print('Good to hear, we can move on.')\n",
    "    elif(clarification == 'N'):\n",
    "        question = input('That is alright. What questions would you like to anonymously ask the teacher? ')\n",
    "        print('A student had this question: ' + question)\n"
   ]
  },
  {
   "cell_type": "code",
   "execution_count": null,
   "metadata": {},
   "outputs": [],
   "source": []
  }
 ],
 "metadata": {
  "celltoolbar": "Hide code",
  "kernelspec": {
   "display_name": "Python 3",
   "language": "python",
   "name": "python3"
  },
  "language_info": {
   "codemirror_mode": {
    "name": "ipython",
    "version": 3
   },
   "file_extension": ".py",
   "mimetype": "text/x-python",
   "name": "python",
   "nbconvert_exporter": "python",
   "pygments_lexer": "ipython3",
   "version": "3.7.4"
  }
 },
 "nbformat": 4,
 "nbformat_minor": 2
}
